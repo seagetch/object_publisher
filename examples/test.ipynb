{
 "cells": [
  {
   "cell_type": "code",
   "execution_count": 1,
   "metadata": {},
   "outputs": [],
   "source": [
    "import sys,os\n",
    "homelib = \"..\"\n",
    "if not homelib in sys.path:\n",
    "    sys.path.append(homelib)\n",
    "\n",
    "from object_publisher import *"
   ]
  },
  {
   "cell_type": "code",
   "execution_count": 2,
   "metadata": {},
   "outputs": [],
   "source": [
    "class Test:\n",
    "    \n",
    "    def __init__(self):\n",
    "        self.x = \"X\"\n",
    "        self.y = \"Y\"\n",
    "    \n",
    "    @publish\n",
    "    def hello(self):\n",
    "        return \"Hello\"\n",
    "    \n",
    "    def not_published(self):\n",
    "        return \"private.: %s\"%self.x\n",
    "    \n",
    "    @publish \n",
    "    def world(self, name):\n",
    "        \"\"\"\n",
    "        Worldコマンド\n",
    "        \n",
    "        Parameters\n",
    "        ----------\n",
    "        name: str\n",
    "            名前（表示用）\n",
    "        \n",
    "        Returns\n",
    "        -------\n",
    "        \"\"\"\n",
    "        return name\n",
    "    \n",
    "    @publish(flask = {\"params\": \"form\"})\n",
    "    def test(self, name, kw=None):\n",
    "        \"\"\"\n",
    "        Testコマンド\n",
    "        \n",
    "        Little bit detailed description of Test method.\n",
    "        \n",
    "        Parameters\n",
    "        ----------\n",
    "        name: str\n",
    "            名前（表示用）\n",
    "        kw: str\n",
    "            表示用のキーワード\n",
    "        \n",
    "        Returns\n",
    "        -------\n",
    "        \"\"\"\n",
    "        return \"%s-%s-%s\"%(self.y, name, kw)\n",
    "    \n",
    "    @publish(flask = {\"path\": [\"id\", \"attr\"], \"params\": \"json\"})\n",
    "    def show_resource(self, id, attr, mustarg, someargs=\"test\"):\n",
    "        print(\"TestID: %s\"%id)\n",
    "        print(\"TestAttr: %s\"%attr)\n",
    "        print(\"MustArg: %s\"%mustarg)\n",
    "        print(\"SomeArgs: %s\"%someargs)\n",
    "        \n",
    "        return {\"TestID\": id, \"TestAttr\": attr, \"MustArg\": mustarg, \"SomeArgs\": someargs}"
   ]
  },
  {
   "cell_type": "code",
   "execution_count": 3,
   "metadata": {},
   "outputs": [
    {
     "data": {
      "text/plain": [
       "'Hello'"
      ]
     },
     "metadata": {},
     "output_type": "display_data"
    },
    {
     "data": {
      "text/plain": [
       "'private.: X'"
      ]
     },
     "metadata": {},
     "output_type": "display_data"
    },
    {
     "data": {
      "text/plain": [
       "'me'"
      ]
     },
     "metadata": {},
     "output_type": "display_data"
    },
    {
     "name": "stdout",
     "output_type": "stream",
     "text": [
      "TestID: id1\n",
      "TestAttr: attr1\n",
      "MustArg: must\n",
      "SomeArgs: test\n"
     ]
    },
    {
     "data": {
      "text/plain": [
       "{'TestID': 'id1', 'TestAttr': 'attr1', 'MustArg': 'must', 'SomeArgs': 'test'}"
      ]
     },
     "metadata": {},
     "output_type": "display_data"
    }
   ],
   "source": [
    "obj = Test()\n",
    "display(obj.hello())\n",
    "display(obj.not_published())\n",
    "display(obj.world(\"me\"))\n",
    "display(obj.show_resource(\"id1\", \"attr1\", \"must\"))"
   ]
  },
  {
   "cell_type": "code",
   "execution_count": 4,
   "metadata": {},
   "outputs": [
    {
     "name": "stdout",
     "output_type": "stream",
     "text": [
      "usage: Test [-h] {hello,world,test,show_resource} ...\n",
      "\n",
      "positional arguments:\n",
      "  {hello,world,test,show_resource}\n",
      "                        sub-command help\n",
      "    hello\n",
      "    world               Worldコマンド\n",
      "    test                Testコマンド\n",
      "    show_resource\n",
      "\n",
      "optional arguments:\n",
      "  -h, --help            show this help message and exit\n"
     ]
    }
   ],
   "source": [
    "try:\n",
    "    CLI(object=obj).run([\"-h\"])\n",
    "except SystemExit as e:\n",
    "    pass"
   ]
  },
  {
   "cell_type": "code",
   "execution_count": 5,
   "metadata": {},
   "outputs": [
    {
     "name": "stdout",
     "output_type": "stream",
     "text": [
      "usage: Test hello [-h]\n",
      "\n",
      "optional arguments:\n",
      "  -h, --help  show this help message and exit\n"
     ]
    }
   ],
   "source": [
    "try:\n",
    "    CLI(klass=Test).run([\"hello\", \"-h\"])\n",
    "except SystemExit as e:\n",
    "    pass"
   ]
  },
  {
   "cell_type": "code",
   "execution_count": 6,
   "metadata": {},
   "outputs": [
    {
     "name": "stdout",
     "output_type": "stream",
     "text": [
      "'Hello'\n"
     ]
    }
   ],
   "source": [
    "CLI(klass=Test).run([\"hello\"])"
   ]
  },
  {
   "cell_type": "code",
   "execution_count": 7,
   "metadata": {},
   "outputs": [
    {
     "name": "stdout",
     "output_type": "stream",
     "text": [
      "usage: Test world [-h] <name>\n",
      "\n",
      "positional arguments:\n",
      "  <name>      名前（表示用）\n",
      "\n",
      "optional arguments:\n",
      "  -h, --help  show this help message and exit\n"
     ]
    }
   ],
   "source": [
    "try:\n",
    "    CLI(klass=Test).run([\"world\", \"-h\"])\n",
    "except SystemExit as e:\n",
    "    pass"
   ]
  },
  {
   "cell_type": "code",
   "execution_count": 8,
   "metadata": {},
   "outputs": [
    {
     "name": "stdout",
     "output_type": "stream",
     "text": [
      "'him'\n"
     ]
    }
   ],
   "source": [
    "CLI(object=obj).run([\"world\", \"him\"])"
   ]
  },
  {
   "cell_type": "code",
   "execution_count": 9,
   "metadata": {},
   "outputs": [
    {
     "name": "stdout",
     "output_type": "stream",
     "text": [
      "usage: Test test [-h] [--kw <kw>] <name>\n",
      "\n",
      "positional arguments:\n",
      "  <name>      名前（表示用）\n",
      "\n",
      "optional arguments:\n",
      "  -h, --help  show this help message and exit\n",
      "  --kw <kw>   表示用のキーワード\n"
     ]
    }
   ],
   "source": [
    "try:\n",
    "    CLI(object=obj).run([\"test\", \"-h\"])\n",
    "except SystemExit as e:\n",
    "    pass"
   ]
  },
  {
   "cell_type": "code",
   "execution_count": 10,
   "metadata": {},
   "outputs": [
    {
     "name": "stdout",
     "output_type": "stream",
     "text": [
      "'Y-its-None'\n"
     ]
    }
   ],
   "source": [
    "CLI(object=obj).run([\"test\", \"its\"])"
   ]
  },
  {
   "cell_type": "code",
   "execution_count": 11,
   "metadata": {},
   "outputs": [
    {
     "name": "stdout",
     "output_type": "stream",
     "text": [
      "'Y-its-TEST'\n"
     ]
    }
   ],
   "source": [
    "CLI(klass=Test).run([\"test\", \"its\", \"--kw\", \"TEST\"])"
   ]
  },
  {
   "cell_type": "code",
   "execution_count": 12,
   "metadata": {},
   "outputs": [
    {
     "name": "stdout",
     "output_type": "stream",
     "text": [
      "usage: Test show_resource [-h] [--someargs <someargs>] <id> <attr> <mustarg>\n",
      "\n",
      "positional arguments:\n",
      "  <id>\n",
      "  <attr>\n",
      "  <mustarg>\n",
      "\n",
      "optional arguments:\n",
      "  -h, --help            show this help message and exit\n",
      "  --someargs <someargs>\n"
     ]
    }
   ],
   "source": [
    "try:\n",
    "    CLI(klass=Test).run([\"show_resource\", \"-h\"])\n",
    "except SystemExit as e:\n",
    "    pass"
   ]
  },
  {
   "cell_type": "code",
   "execution_count": 13,
   "metadata": {},
   "outputs": [
    {
     "name": "stdout",
     "output_type": "stream",
     "text": [
      "TestID: test\n",
      "TestAttr: ATTR\n",
      "MustArg: must!!!\n",
      "SomeArgs: keyword\n",
      "{'MustArg': 'must!!!',\n",
      " 'SomeArgs': 'keyword',\n",
      " 'TestAttr': 'ATTR',\n",
      " 'TestID': 'test'}\n"
     ]
    }
   ],
   "source": [
    "CLI(klass=Test).run([\"show_resource\", \"test\",\"ATTR\",\"must!!!\",\"--someargs\",\"keyword\"])"
   ]
  },
  {
   "cell_type": "code",
   "execution_count": 14,
   "metadata": {},
   "outputs": [
    {
     "name": "stdout",
     "output_type": "stream",
     "text": [
      " * Serving Flask app \"Test\" (lazy loading)\n",
      " * Environment: production\n",
      "   WARNING: This is a development server. Do not use it in a production deployment.\n",
      "   Use a production WSGI server instead.\n",
      " * Debug mode: off\n"
     ]
    },
    {
     "name": "stderr",
     "output_type": "stream",
     "text": [
      " * Running on http://127.0.0.1:9999/ (Press CTRL+C to quit)\n",
      "127.0.0.1 - - [19/Oct/2020 00:21:32] \"POST /Test/trend/world/show_resource HTTP/1.1\" 200 -\n"
     ]
    },
    {
     "name": "stdout",
     "output_type": "stream",
     "text": [
      "TestID: trend\n",
      "TestAttr: world\n",
      "MustArg: 1\n",
      "SomeArgs: test\n"
     ]
    }
   ],
   "source": [
    "Flask(klass=Test).run(port=9999)"
   ]
  },
  {
   "cell_type": "code",
   "execution_count": null,
   "metadata": {},
   "outputs": [],
   "source": []
  },
  {
   "cell_type": "code",
   "execution_count": null,
   "metadata": {},
   "outputs": [],
   "source": []
  }
 ],
 "metadata": {
  "kernelspec": {
   "display_name": "Python 3",
   "language": "python",
   "name": "python3"
  },
  "language_info": {
   "codemirror_mode": {
    "name": "ipython",
    "version": 3
   },
   "file_extension": ".py",
   "mimetype": "text/x-python",
   "name": "python",
   "nbconvert_exporter": "python",
   "pygments_lexer": "ipython3",
   "version": "3.7.4"
  }
 },
 "nbformat": 4,
 "nbformat_minor": 4
}
