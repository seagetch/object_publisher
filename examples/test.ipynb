{
 "cells": [
  {
   "cell_type": "markdown",
   "metadata": {},
   "source": [
    "# Example code\n",
    "\n",
    "## Importing library"
   ]
  },
  {
   "cell_type": "code",
   "execution_count": 1,
   "metadata": {},
   "outputs": [],
   "source": [
    "import sys,os\n",
    "homelib = \"..\"\n",
    "if not homelib in sys.path:\n",
    "    sys.path.append(homelib)\n",
    "\n",
    "from object_publisher import *"
   ]
  },
  {
   "cell_type": "markdown",
   "metadata": {},
   "source": [
    "## Defining class to be published in CLI and Flask web app\n",
    "`publish` decorator is specified for method to be used as sub-command or URL handler.\n",
    "\n",
    "in CLI, every method is called with following arugment.\n",
    "\n",
    "```\n",
    "$ exe <methodname> [parameters ...]\n",
    "```\n",
    "\n",
    "method arguments without default value is used as positional parameter, and arguments with default value is used as optional parameter (`--<arg name>`)\n",
    "\n",
    "\n",
    "in Flask App, method is called with follwing URL access.\n",
    "\n",
    "```\n",
    "/<classname>/[path spec]/<methodname>\n",
    "```\n",
    "where path spec is specified in the decorator:\n",
    "```\n",
    "@publish(flask={\"path\": [\"args to be specified in path\", ...] })\n",
    "```\n",
    "\n",
    "source of the request parameter is specified by:\n",
    "```\n",
    "@publish(flask={\"params\": \"<type>\"})\n",
    "```\n",
    "where `<type>` is one of:\n",
    "\n",
    "|value|notes|\n",
    "|-|-|\n",
    "|args|parameters are specified as field parameters in the URL.|\n",
    "|form|parameters are specified as content body of the requests, with standard form representation.|\n",
    "|json|parameters are specified as content body of the requests, with 'Content-type: application/json'|"
   ]
  },
  {
   "cell_type": "markdown",
   "metadata": {},
   "source": [
    "### Example class\n",
    "`hello`, `world`, `test`, `show_resource` is defined to be published.\n",
    "`not_published` is not published, so that no interface is not build for `not_published` method.\n",
    "\n",
    "docstring is used as source of help in the CLI interface."
   ]
  },
  {
   "cell_type": "code",
   "execution_count": 2,
   "metadata": {},
   "outputs": [],
   "source": [
    "class Test:\n",
    "    \n",
    "    def __init__(self):\n",
    "        self.x = \"X\"\n",
    "        self.y = \"Y\"\n",
    "    \n",
    "    @publish\n",
    "    def hello(self):\n",
    "        return \"Hello\"\n",
    "    \n",
    "    def not_published(self):\n",
    "        return \"private.: %s\"%self.x\n",
    "    \n",
    "    @publish \n",
    "    def world(self, name):\n",
    "        \"\"\"\n",
    "        Worldコマンド\n",
    "        \n",
    "        Parameters\n",
    "        ----------\n",
    "        name: str\n",
    "            名前（表示用）\n",
    "        \n",
    "        Returns\n",
    "        -------\n",
    "        \"\"\"\n",
    "        return name\n",
    "    \n",
    "    @publish(flask = {\"params\": \"form\"})\n",
    "    def test(self, name, kw=None):\n",
    "        \"\"\"\n",
    "        Testコマンド\n",
    "        \n",
    "        Little bit detailed description of Test method.\n",
    "        \n",
    "        Parameters\n",
    "        ----------\n",
    "        name: str\n",
    "            名前（表示用）\n",
    "        kw: str\n",
    "            表示用のキーワード\n",
    "        \n",
    "        Returns\n",
    "        -------\n",
    "        \"\"\"\n",
    "        return \"%s-%s-%s\"%(self.y, name, kw)\n",
    "    \n",
    "    @publish(flask = {\"path\": [\"id\", \"attr\"], \"params\": \"json\"})\n",
    "    def show_resource(self, id, attr, mustarg, someargs=\"test\"):\n",
    "        print(\"TestID: %s\"%id)\n",
    "        print(\"TestAttr: %s\"%attr)\n",
    "        print(\"MustArg: %s\"%mustarg)\n",
    "        print(\"SomeArgs: %s\"%someargs)\n",
    "        \n",
    "        return {\"TestID\": id, \"TestAttr\": attr, \"MustArg\": mustarg, \"SomeArgs\": someargs}"
   ]
  },
  {
   "cell_type": "markdown",
   "metadata": {},
   "source": [
    "# Typical usage\n",
    "\n",
    "## First step: Creating object, and call method as usual library instance.\n",
    "published method can be used as normal method. No special handling is required to invoke published method."
   ]
  },
  {
   "cell_type": "code",
   "execution_count": 3,
   "metadata": {},
   "outputs": [
    {
     "data": {
      "text/plain": [
       "'Hello'"
      ]
     },
     "metadata": {},
     "output_type": "display_data"
    },
    {
     "data": {
      "text/plain": [
       "'private.: X'"
      ]
     },
     "metadata": {},
     "output_type": "display_data"
    },
    {
     "data": {
      "text/plain": [
       "'me'"
      ]
     },
     "metadata": {},
     "output_type": "display_data"
    },
    {
     "name": "stdout",
     "output_type": "stream",
     "text": [
      "TestID: id1\n",
      "TestAttr: attr1\n",
      "MustArg: must\n",
      "SomeArgs: test\n"
     ]
    },
    {
     "data": {
      "text/plain": [
       "{'TestID': 'id1', 'TestAttr': 'attr1', 'MustArg': 'must', 'SomeArgs': 'test'}"
      ]
     },
     "metadata": {},
     "output_type": "display_data"
    }
   ],
   "source": [
    "obj = Test()\n",
    "display(obj.hello())\n",
    "display(obj.not_published())\n",
    "display(obj.world(\"me\"))\n",
    "display(obj.show_resource(\"id1\", \"attr1\", \"must\"))"
   ]
  },
  {
   "cell_type": "markdown",
   "metadata": {},
   "source": [
    "## Second step: Call object from command line interface\n",
    "Buliding CLI interface object, and run it wtih sys.argv or parameter array.\n",
    "You can build interface by one of two initialization parameters:\n",
    "\n",
    "1. specifying instance by `object=<object>`\n",
    "\n",
    "    Same object is used throughout several `run` calls in the same process.\n",
    "\n",
    "2. specifying class (and optional allocator/deallocator) by `klass=<class>, [allocator=<object allocation function>, deallocator=<object deallocation function>]`\n",
    "\n",
    "    New object is created for every call of the `run` method.\n",
    "    If allocator / deallocator is not specified, simple factory to call default <class> constructor is automatically generated. \n",
    "\n",
    "### Global help"
   ]
  },
  {
   "cell_type": "code",
   "execution_count": 4,
   "metadata": {},
   "outputs": [
    {
     "name": "stdout",
     "output_type": "stream",
     "text": [
      "usage: Test [-h] {hello,world,test,show_resource} ...\n",
      "\n",
      "positional arguments:\n",
      "  {hello,world,test,show_resource}\n",
      "                        sub-command help\n",
      "    hello\n",
      "    world               Worldコマンド\n",
      "    test                Testコマンド\n",
      "    show_resource\n",
      "\n",
      "optional arguments:\n",
      "  -h, --help            show this help message and exit\n"
     ]
    }
   ],
   "source": [
    "try:\n",
    "    CLI(object=obj).run([\"-h\"])\n",
    "except SystemExit as e:\n",
    "    pass"
   ]
  },
  {
   "cell_type": "markdown",
   "metadata": {},
   "source": [
    "### Sub-command help for 'hello' method."
   ]
  },
  {
   "cell_type": "code",
   "execution_count": 5,
   "metadata": {},
   "outputs": [
    {
     "name": "stdout",
     "output_type": "stream",
     "text": [
      "usage: Test hello [-h]\n",
      "\n",
      "optional arguments:\n",
      "  -h, --help  show this help message and exit\n"
     ]
    }
   ],
   "source": [
    "try:\n",
    "    CLI(klass=Test).run([\"hello\", \"-h\"])\n",
    "except SystemExit as e:\n",
    "    pass"
   ]
  },
  {
   "cell_type": "markdown",
   "metadata": {},
   "source": [
    "### Run method by \"hello\" subcommand."
   ]
  },
  {
   "cell_type": "code",
   "execution_count": 6,
   "metadata": {},
   "outputs": [
    {
     "name": "stdout",
     "output_type": "stream",
     "text": [
      "'Hello'\n"
     ]
    }
   ],
   "source": [
    "CLI(klass=Test).run([\"hello\"])"
   ]
  },
  {
   "cell_type": "markdown",
   "metadata": {},
   "source": [
    "### Sub-command help for 'world' method.\n",
    "\n",
    "docstring is used as the source of the parameter description."
   ]
  },
  {
   "cell_type": "code",
   "execution_count": 7,
   "metadata": {},
   "outputs": [
    {
     "name": "stdout",
     "output_type": "stream",
     "text": [
      "usage: Test world [-h] <name>\n",
      "\n",
      "positional arguments:\n",
      "  <name>      名前（表示用）\n",
      "\n",
      "optional arguments:\n",
      "  -h, --help  show this help message and exit\n"
     ]
    }
   ],
   "source": [
    "try:\n",
    "    CLI(klass=Test).run([\"world\", \"-h\"])\n",
    "except SystemExit as e:\n",
    "    pass"
   ]
  },
  {
   "cell_type": "markdown",
   "metadata": {},
   "source": [
    "### Run method by \"world\" subcommand.\n",
    "`name` parameter is filled with first sub-command argument, because `name` is positional argument. "
   ]
  },
  {
   "cell_type": "code",
   "execution_count": 8,
   "metadata": {},
   "outputs": [
    {
     "name": "stdout",
     "output_type": "stream",
     "text": [
      "'him'\n"
     ]
    }
   ],
   "source": [
    "CLI(object=obj).run([\"world\", \"him\"])"
   ]
  },
  {
   "cell_type": "markdown",
   "metadata": {},
   "source": [
    "### Sub-command help for 'test' method.\n",
    "`name` is treated as positional parameter because it has no default value,\n",
    "while `kw` is treated as optional parameter because it has default value (`None`)"
   ]
  },
  {
   "cell_type": "code",
   "execution_count": 9,
   "metadata": {},
   "outputs": [
    {
     "name": "stdout",
     "output_type": "stream",
     "text": [
      "usage: Test test [-h] [--kw <kw>] <name>\n",
      "\n",
      "positional arguments:\n",
      "  <name>      名前（表示用）\n",
      "\n",
      "optional arguments:\n",
      "  -h, --help  show this help message and exit\n",
      "  --kw <kw>   表示用のキーワード\n"
     ]
    }
   ],
   "source": [
    "try:\n",
    "    CLI(object=obj).run([\"test\", \"-h\"])\n",
    "except SystemExit as e:\n",
    "    pass"
   ]
  },
  {
   "cell_type": "markdown",
   "metadata": {},
   "source": [
    "### Run method by \"test\" subcommand without any optional parameters."
   ]
  },
  {
   "cell_type": "code",
   "execution_count": 10,
   "metadata": {},
   "outputs": [
    {
     "name": "stdout",
     "output_type": "stream",
     "text": [
      "'Y-its-None'\n"
     ]
    }
   ],
   "source": [
    "CLI(object=obj).run([\"test\", \"its\"])"
   ]
  },
  {
   "cell_type": "markdown",
   "metadata": {},
   "source": [
    "### Run method by \"test\" subcommand with explicit optional parameters."
   ]
  },
  {
   "cell_type": "code",
   "execution_count": 11,
   "metadata": {},
   "outputs": [
    {
     "name": "stdout",
     "output_type": "stream",
     "text": [
      "'Y-its-TEST'\n"
     ]
    }
   ],
   "source": [
    "CLI(klass=Test).run([\"test\", \"its\", \"--kw\", \"TEST\"])"
   ]
  },
  {
   "cell_type": "markdown",
   "metadata": {},
   "source": [
    "### Sub-command help for 'show_resource' method.\n",
    "This method has explicit annotation for flask mode, so that parameter of CLI is treated different way from web app."
   ]
  },
  {
   "cell_type": "code",
   "execution_count": 12,
   "metadata": {},
   "outputs": [
    {
     "name": "stdout",
     "output_type": "stream",
     "text": [
      "usage: Test show_resource [-h] [--someargs <someargs>] <id> <attr> <mustarg>\n",
      "\n",
      "positional arguments:\n",
      "  <id>\n",
      "  <attr>\n",
      "  <mustarg>\n",
      "\n",
      "optional arguments:\n",
      "  -h, --help            show this help message and exit\n",
      "  --someargs <someargs>\n"
     ]
    }
   ],
   "source": [
    "try:\n",
    "    CLI(klass=Test).run([\"show_resource\", \"-h\"])\n",
    "except SystemExit as e:\n",
    "    pass"
   ]
  },
  {
   "cell_type": "markdown",
   "metadata": {},
   "source": [
    "### Run method by \"show_resource\" subcommand."
   ]
  },
  {
   "cell_type": "code",
   "execution_count": 13,
   "metadata": {},
   "outputs": [
    {
     "name": "stdout",
     "output_type": "stream",
     "text": [
      "TestID: test\n",
      "TestAttr: ATTR\n",
      "MustArg: must!!!\n",
      "SomeArgs: keyword\n",
      "{'MustArg': 'must!!!',\n",
      " 'SomeArgs': 'keyword',\n",
      " 'TestAttr': 'ATTR',\n",
      " 'TestID': 'test'}\n"
     ]
    }
   ],
   "source": [
    "CLI(klass=Test).run([\"show_resource\", \"test\",\"ATTR\",\"must!!!\",\"--someargs\",\"keyword\"])"
   ]
  },
  {
   "cell_type": "markdown",
   "metadata": {},
   "source": [
    "## Third step: Publish object as web service in Flask.\n",
    "\n",
    "**CAUTION**: After testing, you need to stop notebook manually.\n",
    "\n",
    "after launching web service, you can try it as follwing command in the terminal.\n",
    "\n",
    "1. Simple \"GET\" service.\n",
    "\n",
    "```\n",
    "$ curl http://localhost:9999/Test/hello\n",
    "```\n",
    "\n",
    "2. \"GET\" service with arguments\n",
    "\n",
    "```\n",
    "$ curl http://localhost:9999/Test/world?name=test\n",
    "```\n",
    "\n",
    "3. \"POST\" service with form representation for arguments\n",
    "\n",
    "      `@publish(flask={\"params\": \"form\"})` is used.\n",
    "      method is automatically guessed as \"POST\" because it has \"form\" type parameter.\n",
    "      You can override it by explicitly specifying method in the decrorator.\n",
    "\n",
    "```\n",
    "$ curl -X POST --form name=\"Example user\" http://localhost:9999/Test/test\n",
    "```\n",
    "\n",
    "4. \"POST\" service with JSON representation for arguments\n",
    "\n",
    "      \"`id`\" and \"`attr`\" is specified as part of path in URL.\n",
    "      `@publish(flask={\"path\": [\"id\", \"attr\"], \"params\": \"json\", \"method\": \"POST\"})` is used.\n",
    "\n",
    "```\n",
    "$ curl -X POST -d '{\"mustarg\": 1}' -H 'Content-type: application/json' http://localhost:9999/Test/trend/world/show_resource\n",
    "```"
   ]
  },
  {
   "cell_type": "code",
   "execution_count": 17,
   "metadata": {},
   "outputs": [
    {
     "name": "stdout",
     "output_type": "stream",
     "text": [
      " * Serving Flask app \"Test\" (lazy loading)\n",
      " * Environment: production\n",
      "   WARNING: This is a development server. Do not use it in a production deployment.\n",
      "   Use a production WSGI server instead.\n",
      " * Debug mode: off\n"
     ]
    },
    {
     "name": "stderr",
     "output_type": "stream",
     "text": [
      " * Running on http://127.0.0.1:9999/ (Press CTRL+C to quit)\n",
      "127.0.0.1 - - [19/Oct/2020 01:06:32] \"GET /Test/hello HTTP/1.1\" 200 -\n",
      "127.0.0.1 - - [19/Oct/2020 01:07:31] \"GET /Test/world?name=test HTTP/1.1\" 200 -\n",
      "127.0.0.1 - - [19/Oct/2020 01:08:10] \"POST /Test/test HTTP/1.1\" 200 -\n",
      "127.0.0.1 - - [19/Oct/2020 01:08:30] \"POST /Test/trend/world/show_resource HTTP/1.1\" 200 -\n"
     ]
    },
    {
     "name": "stdout",
     "output_type": "stream",
     "text": [
      "TestID: trend\n",
      "TestAttr: world\n",
      "MustArg: 1\n",
      "SomeArgs: test\n"
     ]
    }
   ],
   "source": [
    "Flask(klass=Test).run(port=9999)"
   ]
  },
  {
   "cell_type": "code",
   "execution_count": null,
   "metadata": {},
   "outputs": [],
   "source": []
  }
 ],
 "metadata": {
  "kernelspec": {
   "display_name": "Python 3",
   "language": "python",
   "name": "python3"
  },
  "language_info": {
   "codemirror_mode": {
    "name": "ipython",
    "version": 3
   },
   "file_extension": ".py",
   "mimetype": "text/x-python",
   "name": "python",
   "nbconvert_exporter": "python",
   "pygments_lexer": "ipython3",
   "version": "3.7.4"
  }
 },
 "nbformat": 4,
 "nbformat_minor": 4
}
